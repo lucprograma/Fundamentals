{
 "cells": [
  {
   "cell_type": "code",
   "execution_count": 1,
   "id": "e4201c18-acad-4a57-a718-73d46bf996e2",
   "metadata": {},
   "outputs": [],
   "source": [
    "import matplotlib\n",
    "%matplotlib inline"
   ]
  },
  {
   "cell_type": "code",
   "execution_count": 2,
   "id": "a2e51ecc-0d31-413c-b9ac-5798a24dc7c6",
   "metadata": {},
   "outputs": [],
   "source": [
    "#imports \n",
    "from dataclasses import dataclass\n",
    "from matplotlib.animation import FuncAnimation, FFMpegWriter\n",
    "import numpy as np\n",
    "import matplotlib.pyplot as plt"
   ]
  },
  {
   "cell_type": "code",
   "execution_count": 3,
   "id": "c1e52bda-4d9a-4e29-a75b-4ca4d529b4cb",
   "metadata": {},
   "outputs": [
    {
     "data": {
      "image/png": "[encoded data removed]",
      "text/plain": [
       "<Figure size 640x480 with 1 Axes>"
      ]
     },
     "metadata": {},
     "output_type": "display_data"
    }
   ],
   "source": [
    "@dataclass\n",
    "class CelestialBody:\n",
    "    name: str\n",
    "    mass: np.float64\n",
    "    position: np.ndarray\n",
    "    velocity: np.ndarray\n",
    "bodies = np.array([\n",
    "    CelestialBody(name='Earth', mass=np.float32(1.0), position=np.array([100.0, 0], dtype=np.float32), velocity=np.array([0, 1], dtype=np.float32)),\n",
    "    CelestialBody(name='Sun', mass=np.float32(1000.0), position=np.array([0, 0], dtype=np.float32) , velocity=np.array([0, 0], dtype=np.float32))\n",
    "], dtype=object)\n",
    "def calculate_orbit(body1: CelestialBody, body2: CelestialBody) -> np.ndarray:\n",
    "    \"\"\"\n",
    "    Calcula la fuerza gravitacional entre dos cuerpos celestes.\n",
    "    \"\"\"\n",
    "    radial_vector = body2.position - body1.position\n",
    "    G = 6.67\n",
    "    distance = np.linalg.norm(body1.position - body2.position)\n",
    "    force = G * (body1.mass * body2.mass) / (distance ** 2)\n",
    "    force_vector = radial_vector / distance * force\n",
    "    return force_vector\n",
    "def update_position(body: CelestialBody, force: np.ndarray, dt: float) -> None:\n",
    "    \"\"\"\n",
    "    Actualiza la posición de un cuerpo celeste en función de la fuerza ejercida sobre él.\n",
    "    \"\"\"\n",
    "    acceleration = force / body.mass\n",
    "    body.velocity += acceleration * dt  # Actualizamos la velocidad\n",
    "    body.position += body.velocity * dt\n",
    "# Dibujar la trayectoria de los cuerpos celestes\n",
    "fig, ax = plt.subplots()\n",
    "ax.set_aspect('equal')\n",
    "ax.set_xlim(-150, 150)\n",
    "ax.set_ylim(-150, 150)\n",
    "\n",
    "# Dibujar los cuerpos celestes\n",
    "planet = plt.Circle((bodies[0].position[0], bodies[0].position[1]), radius=3, color='blue')\n",
    "star = plt.Circle((bodies[1].position[0], bodies[1].position[1]), radius=6, color='orange')\n",
    "ax.add_patch(star)\n",
    "ax.add_patch(planet)\n",
    "\n",
    "# Inicializar la trayectoria\n",
    "trajectory_x = []\n",
    "trajectory_y = []\n",
    "path, = ax.plot([], [], 'k--', lw=0.5)\n",
    "\n",
    "def update(frame):\n",
    "    \"\"\"\n",
    "    Actualiza la posición de los cuerpos celestes en cada fotograma.\n",
    "    \"\"\"\n",
    "    global trajectory_x, trajectory_y\n",
    "\n",
    "    # Calcular la fuerza gravitacional y actualizar la posición\n",
    "    force = calculate_orbit(bodies[0], bodies[1])\n",
    "    update_position(bodies[0], force, dt=0.1)\n",
    "\n",
    "    # Actualizar la posición del planeta\n",
    "    planet.center = (bodies[0].position[0], bodies[0].position[1])\n",
    "\n",
    "    # Acumular la trayectoria\n",
    "    trajectory_x.append(bodies[0].position[0])\n",
    "    trajectory_y.append(bodies[0].position[1])\n",
    "    path.set_data(trajectory_x, trajectory_y)\n",
    "\n",
    "    return planet, path\n",
    "\n",
    "ani = FuncAnimation(fig, update, frames=100, interval=30)\n",
    "plt.show()"
   ]
  },
  {
   "cell_type": "code",
   "execution_count": null,
   "id": "9ba6306b-9472-4a85-a1de-f99198620fc7",
   "metadata": {},
   "outputs": [],
   "source": []
  }
 ],
 "metadata": {
  "kernelspec": {
   "display_name": "Python 3 (ipykernel)",
   "language": "python",
   "name": "python3"
  },
  "language_info": {
   "codemirror_mode": {
    "name": "ipython",
    "version": 3
   },
   "file_extension": ".py",
   "mimetype": "text/x-python",
   "name": "python",
   "nbconvert_exporter": "python",
   "pygments_lexer": "ipython3",
   "version": "3.12.9"
  }
 },
 "nbformat": 4,
 "nbformat_minor": 5
}
