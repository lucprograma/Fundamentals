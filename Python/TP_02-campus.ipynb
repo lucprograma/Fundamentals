{
 "cells": [
  {
   "cell_type": "code",
   "execution_count": 42,
   "metadata": {},
   "outputs": [],
   "source": [
    "#imports \n",
    "import numpy as np"
   ]
  },
  {
   "cell_type": "markdown",
   "metadata": {
    "id": "PdAIKq9r5bv6"
   },
   "source": [
    "## Práctico N°2\n",
    "Dada la siguiene serie de python, crear un array en NumPy:\n",
    "`87, 53, 27, 45, 30, 84, 85, 17, 14`\n",
    "* A-Obtener los primero 4 valores de la serie.\n",
    "* B-Convertir a una matrix de 3x3.\n",
    "* C-Obtener los máximos de cada fila.\n",
    "* D-Obtener los mínimos de cada columna.\n"
   ]
  },
  {
   "cell_type": "code",
   "execution_count": 37,
   "metadata": {},
   "outputs": [
    {
     "name": "stdout",
     "output_type": "stream",
     "text": [
      "[87 53 27 45]\n",
      "[[87 53 27]\n",
      " [45 30 84]\n",
      " [85 17 14]]\n",
      "[87 84 85]\n",
      "[45 17 14]\n"
     ]
    }
   ],
   "source": [
    "number_serie = np.array([87, 53, 27, 45, 30, 84, 85, 17, 14])\n",
    "# A. obtener los primeros 4 valores\n",
    "print(number_serie[:4])\n",
    "# B. convertir a matriz 3x3\n",
    "number_serie = number_serie.reshape(3, 3)\n",
    "print(number_serie)\n",
    "# C Obtener los máximos de cada fila.\n",
    "print(number_serie.max(axis=1))\n",
    "# D Obtener los mínimos de cada columna.\n",
    "print(number_serie.min(axis=0))"
   ]
  },
  {
   "cell_type": "markdown",
   "metadata": {
    "id": "FDSOSO9c5bwO"
   },
   "source": [
    "* Crear un array de 4 dimensiones 3 filas, 4 columnas, agrupados en 2 grupos de 3 matrices con numeros enteros aleatorios entre 3 y 30.\n",
    "* Calcular la amplitud por columnas de la segunda matriz del primer grupo.\n",
    "* Calcular la amplitud por filas de la ultima matriz del ultimo grupo(sin tener en cuenta el total de grupos ni de matrices por grupo)"
   ]
  },
  {
   "cell_type": "code",
   "execution_count": 38,
   "metadata": {},
   "outputs": [
    {
     "name": "stdout",
     "output_type": "stream",
     "text": [
      "[[[[[9 5 3]\n",
      "    [8 5 4]\n",
      "    [3 8 9]]\n",
      "\n",
      "   [[8 2 7]\n",
      "    [2 7 7]\n",
      "    [1 1 2]]\n",
      "\n",
      "   [[5 3 3]\n",
      "    [3 6 1]\n",
      "    [4 5 5]]\n",
      "\n",
      "   [[6 1 9]\n",
      "    [7 9 8]\n",
      "    [4 6 9]]]\n",
      "\n",
      "\n",
      "  [[[3 8 8]\n",
      "    [9 8 4]\n",
      "    [4 1 8]]\n",
      "\n",
      "   [[7 8 4]\n",
      "    [6 1 1]\n",
      "    [9 1 2]]\n",
      "\n",
      "   [[9 9 3]\n",
      "    [7 2 1]\n",
      "    [3 3 8]]\n",
      "\n",
      "   [[2 2 2]\n",
      "    [3 5 6]\n",
      "    [3 4 6]]]]]\n"
     ]
    }
   ],
   "source": [
    "# Array 3*4*2*1 aleatorio\n",
    "array = np.random.randint(1, 10, (1, 2, 4, 3, 3))\n",
    "print(array)"
   ]
  },
  {
   "cell_type": "markdown",
   "metadata": {
    "id": "RFmpwvBc5bwg"
   },
   "source": [
    "Dado el siguiente array averigura:\n",
    "* Cantas dimensiones e instancias tiene de cada una.\n",
    "* Convertir el array en 4 grupos de 3 matrices de 9 columnas (calcular las filas)"
   ]
  },
  {
   "cell_type": "code",
   "execution_count": 39,
   "metadata": {
    "id": "yfj6OtZN5bwi"
   },
   "outputs": [],
   "source": [
    "arr = np.array([[[[25, 26,  5, 26,  5, 17, 16, 17,  4],[16, 19, 15, 12, 18, 20, 21, 20, 28],[18, 29, 14, 24, 18, 27, 25,  6, 28],[26,  3,  7,  5,  4,  6, 14, 25, 23],[24,  7, 24, 20, 24, 15, 24, 17, 23],[ 5, 25, 14,  7, 16, 19, 29, 22, 13]],[[28, 26,  5, 27, 16, 23, 14,  4, 17],[18, 13,  6,  7, 11,  6,  7,  8, 24],[18, 21, 16,  3,  9,  3, 20, 14, 25],[17,  3,  7, 28, 22, 28, 12,  8, 29],[24, 12, 11, 22, 15, 21,  7, 12, 28],[ 6, 24, 10, 26, 10, 29,  7, 23, 20]],[[ 7, 15,  7, 24, 13, 28, 14, 26, 16],[17,  5,  7, 29, 20, 17, 21, 16, 21],[23, 22, 14, 25, 27,  3,  8,  4, 20],[12, 17, 16, 22, 15,  6, 17,  8, 22],[23,  8, 22, 29,  5, 23, 21,  8,  9],[13,  6, 11, 14,  5, 20, 20, 16, 26]]],[[[18,  7,  5, 18, 23,  9, 21, 16, 26],[11, 10,  9,  4,  6,  4,  6, 13, 14],[25, 13, 13, 18, 24, 18,  7, 20, 28],[27, 25, 17, 10, 25,  3,  3,  8,  7],[25, 16, 18, 11,  6, 18, 21,  6, 13],[29,  9,  4, 24, 10, 26, 13, 18, 14]],[[ 8,  9, 13, 29, 26,  4, 27, 26, 14],[16,  8, 15,  4, 18, 16, 23, 27, 21],[29, 13,  6,  9,  8,  6, 25,  3, 29],[17, 12, 19,  4, 22,  3, 12, 19, 15],[29, 29,  7, 10,  3, 15,  4, 28,  4],[ 6, 11,  3, 22, 14, 20,  8,  9, 13]],[[26,  8,  6,  5,  9, 24, 24, 15, 18],[28, 21, 23, 28, 25,  8, 19, 19, 21],[24,  7, 10,  9, 12, 21, 14, 27, 10],[25,  6, 23, 26, 23, 14, 17,  9, 12],[24, 10, 28, 29, 15, 25,  5, 14,  3],[25, 18, 28, 19, 23, 29, 16, 20,  8]]]])"
   ]
  },
  {
   "cell_type": "code",
   "execution_count": 40,
   "metadata": {},
   "outputs": [
    {
     "name": "stdout",
     "output_type": "stream",
     "text": [
      "4\n",
      "Las ocurrencias de la dimension 0 son:2\n",
      "Las ocurrencias de la dimension 1 son:3\n",
      "Las ocurrencias de la dimension 2 son:6\n",
      "Las ocurrencias de la dimension 3 son:9\n",
      "el total de valores es:324\n",
      "[[[25 26  5 26  5 17 16 17  4 16 19 15]\n",
      "  [12 18 20 21 20 28 18 29 14 24 18 27]\n",
      "  [25  6 28 26  3  7  5  4  6 14 25 23]\n",
      "  [24  7 24 20 24 15 24 17 23  5 25 14]\n",
      "  [ 7 16 19 29 22 13 28 26  5 27 16 23]\n",
      "  [14  4 17 18 13  6  7 11  6  7  8 24]\n",
      "  [18 21 16  3  9  3 20 14 25 17  3  7]\n",
      "  [28 22 28 12  8 29 24 12 11 22 15 21]\n",
      "  [ 7 12 28  6 24 10 26 10 29  7 23 20]]\n",
      "\n",
      " [[ 7 15  7 24 13 28 14 26 16 17  5  7]\n",
      "  [29 20 17 21 16 21 23 22 14 25 27  3]\n",
      "  [ 8  4 20 12 17 16 22 15  6 17  8 22]\n",
      "  [23  8 22 29  5 23 21  8  9 13  6 11]\n",
      "  [14  5 20 20 16 26 18  7  5 18 23  9]\n",
      "  [21 16 26 11 10  9  4  6  4  6 13 14]\n",
      "  [25 13 13 18 24 18  7 20 28 27 25 17]\n",
      "  [10 25  3  3  8  7 25 16 18 11  6 18]\n",
      "  [21  6 13 29  9  4 24 10 26 13 18 14]]\n",
      "\n",
      " [[ 8  9 13 29 26  4 27 26 14 16  8 15]\n",
      "  [ 4 18 16 23 27 21 29 13  6  9  8  6]\n",
      "  [25  3 29 17 12 19  4 22  3 12 19 15]\n",
      "  [29 29  7 10  3 15  4 28  4  6 11  3]\n",
      "  [22 14 20  8  9 13 26  8  6  5  9 24]\n",
      "  [24 15 18 28 21 23 28 25  8 19 19 21]\n",
      "  [24  7 10  9 12 21 14 27 10 25  6 23]\n",
      "  [26 23 14 17  9 12 24 10 28 29 15 25]\n",
      "  [ 5 14  3 25 18 28 19 23 29 16 20  8]]]\n"
     ]
    }
   ],
   "source": [
    "print(arr.ndim)\n",
    "for i in range(arr.ndim):\n",
    "    print(f\"Las ocurrencias de la dimension {i} son:{arr.shape[i]}\")\n",
    "print(f\"el total de valores es:{arr.size}\")\n",
    "print(arr.reshape(3,9,12))"
   ]
  },
  {
   "cell_type": "markdown",
   "metadata": {},
   "source": [
    "* Dado el siguiente array con la información de alumnos, agregar las notas de las materias que faltan que se encuentran en el arr2\n",
    "* Mostrar en un array el promedio de cada alumno (solo 2 decimales)\n",
    "* Mostrar el un arrayo con el promedio por materias (solo 2 decimales)\n",
    "* Generar una lista con los nombre de los alumnos que aprobaron con mas de 7 matemáticas\n",
    "* Generar una lista con los alumnos que obtubieron menos 7 en base de datos."
   ]
  },
  {
   "cell_type": "code",
   "execution_count": null,
   "metadata": {},
   "outputs": [
    {
     "ename": "ValueError",
     "evalue": "all the input array dimensions except for the concatenation axis must match exactly, but along dimension 0, the array at index 0 has size 8 and the array at index 1 has size 9",
     "output_type": "error",
     "traceback": [
      "\u001b[0;31m---------------------------------------------------------------------------\u001b[0m",
      "\u001b[0;31mValueError\u001b[0m                                Traceback (most recent call last)",
      "Cell \u001b[0;32mIn[43], line 10\u001b[0m\n\u001b[1;32m      7\u001b[0m base_datos_col \u001b[38;5;241m=\u001b[39m np\u001b[38;5;241m.\u001b[39minsert(np\u001b[38;5;241m.\u001b[39marray(base_datos, dtype\u001b[38;5;241m=\u001b[39m\u001b[38;5;28mobject\u001b[39m), \u001b[38;5;241m0\u001b[39m, \u001b[38;5;124m\"\u001b[39m\u001b[38;5;124mBase de Datos\u001b[39m\u001b[38;5;124m\"\u001b[39m)\n\u001b[1;32m      9\u001b[0m \u001b[38;5;66;03m# Apilar columnas\u001b[39;00m\n\u001b[0;32m---> 10\u001b[0m arr1 \u001b[38;5;241m=\u001b[39m np\u001b[38;5;241m.\u001b[39mcolumn_stack((arr1, algoritmos_col, base_datos_col))\n\u001b[1;32m     12\u001b[0m \u001b[38;5;28mprint\u001b[39m(arr1)\n\u001b[1;32m     13\u001b[0m \u001b[38;5;66;03m# promedio de cada alumno\u001b[39;00m\n",
      "File \u001b[0;32m~/miniconda3/lib/python3.12/site-packages/numpy/lib/_shape_base_impl.py:662\u001b[0m, in \u001b[0;36mcolumn_stack\u001b[0;34m(tup)\u001b[0m\n\u001b[1;32m    660\u001b[0m         arr \u001b[38;5;241m=\u001b[39m array(arr, copy\u001b[38;5;241m=\u001b[39m\u001b[38;5;28;01mNone\u001b[39;00m, subok\u001b[38;5;241m=\u001b[39m\u001b[38;5;28;01mTrue\u001b[39;00m, ndmin\u001b[38;5;241m=\u001b[39m\u001b[38;5;241m2\u001b[39m)\u001b[38;5;241m.\u001b[39mT\n\u001b[1;32m    661\u001b[0m     arrays\u001b[38;5;241m.\u001b[39mappend(arr)\n\u001b[0;32m--> 662\u001b[0m \u001b[38;5;28;01mreturn\u001b[39;00m _nx\u001b[38;5;241m.\u001b[39mconcatenate(arrays, \u001b[38;5;241m1\u001b[39m)\n",
      "\u001b[0;31mValueError\u001b[0m: all the input array dimensions except for the concatenation axis must match exactly, but along dimension 0, the array at index 0 has size 8 and the array at index 1 has size 9"
     ]
    }
   ],
   "source": [
    "\n",
    "\n",
    "# Datos originales\n",
    "arr1 = np.array([\n",
    "    [\"Nombre\",\"Matemáticas\",\"Estadísticas\",\"Algebra\",\"Ingles\"],\n",
    "    [\"María\",7,5,7,8],\n",
    "    [\"Sebastián\",8,6,6,9],\n",
    "    [\"Javier\",8,8,4,7],\n",
    "    [\"Cristian\",4,5,3,9],\n",
    "    [\"Julia\",8,8,9,8],\n",
    "    [\"Facundo\",9,3,6,10],\n",
    "    [\"Ariel\",9,9,8,10]\n",
    "], dtype=object)\n",
    "\n",
    "arr2 = [\"Algoritmos\",4,8,7,9,9,8,6,\"Base de Datos\",7,6,5,6,5,8,9]\n",
    "\n",
    "# Extraer notas\n",
    "algoritmos = arr2[1:8]\n",
    "base_datos = arr2[9:]\n",
    "\n",
    "# Agregar columnas\n",
    "arr1 = np.column_stack((arr1, [\"Algoritmos\"] + algoritmos, [\"Base de Datos\"] + base_datos))\n",
    "\n",
    "print(\"Array con todas las materias:\")\n",
    "print(arr1)\n",
    "\n",
    "# Convertir solo las notas a float para cálculos (ignorando la cabecera)\n",
    "notas = arr1[1:, 1:].astype(float)\n",
    "\n",
    "# Promedio de cada alumno (solo 2 decimales)\n",
    "promedios_alumnos = np.round(notas.mean(axis=1), 2)\n",
    "print(\"\\nPromedio de cada alumno:\")\n",
    "print(promedios_alumnos)\n",
    "\n",
    "# Promedio por materia (solo 2 decimales)\n",
    "promedios_materias = np.round(notas.mean(axis=0), 2)\n",
    "print(\"\\nPromedio por materia:\")\n",
    "print(promedios_materias)\n",
    "\n",
    "# Alumnos que aprobaron matemáticas con más de 7\n",
    "print(\"\\nAlumnos con más de 7 en Matemáticas:\")\n",
    "for i, nota in enumerate(notas[:, 0]):\n",
    "    if nota > 7:\n",
    "        print(arr1[i+1, 0])\n",
    "\n",
    "# Alumnos con menos de 7 en Base de Datos\n",
    "print(\"\\nAlumnos con menos de 7 en Base de Datos:\")\n",
    "for i, nota in enumerate(notas[:, -1]):\n",
    "    if nota < 7:\n",
    "        print(arr1[i+1, 0])"
   ]
  },
  {
   "cell_type": "code",
   "execution_count": null,
   "metadata": {},
   "outputs": [],
   "source": []
  }
 ],
 "metadata": {
  "colab": {
   "provenance": []
  },
  "kernelspec": {
   "display_name": "Python 3 (ipykernel)",
   "language": "python",
   "name": "python3"
  },
  "language_info": {
   "codemirror_mode": {
    "name": "ipython",
    "version": 3
   },
   "file_extension": ".py",
   "mimetype": "text/x-python",
   "name": "python",
   "nbconvert_exporter": "python",
   "pygments_lexer": "ipython3",
   "version": "3.12.9"
  }
 },
 "nbformat": 4,
 "nbformat_minor": 4
}
