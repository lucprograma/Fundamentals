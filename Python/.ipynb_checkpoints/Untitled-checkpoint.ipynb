{
 "cells": [
  {
   "cell_type": "markdown",
   "id": "c2858f1b",
   "metadata": {},
   "source": [
    "## Ejercicio 1\n",
    "Realizar un script en Phiton mediante el cual se solicite la cantidad de personas y se cargue de cada una el nombre, edad, domicilio y altura.\n"
   ]
  },
  {
   "cell_type": "code",
   "execution_count": null,
   "id": "85561c9c",
   "metadata": {
    "vscode": {
     "languageId": "python"
    }
   },
   "outputs": [
    {
     "name": "stdin",
     "output_type": "stream",
     "text": [
      "ingrese la cantidad de personas 2\n",
      "ingrese el nombre de la persona 0 fdas\n",
      "ingrese la edad de la persona 0 2\n",
      "ingrese el domicilio de la persona 0 ssds1\n",
      "ingrese la altura de la persona 0 123\n"
     ]
    },
    {
     "name": "stdout",
     "output_type": "stream",
     "text": [
      "Hola, soy fdas y tengo 2 años. mi domicilio es ssds1 y mido 123 metros.\n"
     ]
    }
   ],
   "source": [
    "class Persona:\n",
    "    def __init__(self, nombre, edad, domicilio, altura):\n",
    "        self.nombre = nombre\n",
    "        self.edad = edad\n",
    "        self.domicilio = domicilio\n",
    "        self.altura = altura\n",
    "\n",
    "    def saludar(self):\n",
    "        print(f\"Hola, soy {self.nombre} y tengo {self.edad} años. mi domicilio es {self.domicilio} y mido {self.altura} metros.\")\n",
    "cantidad = input(\"ingrese la cantidad de personas\")\n",
    "i = 1\n",
    "lista_personas = []\n",
    "for i in range(int(cantidad)):\n",
    "    nombre = input(f\"ingrese el nombre de la persona {i}\")\n",
    "    edad = input(f\"ingrese la edad de la persona {i}\")\n",
    "    domicilio = input(f\"ingrese el domicilio de la persona {i}\")\n",
    "    altura = input(f\"ingrese la altura de la persona {i}\")\n",
    "    persona = Persona(nombre, edad, domicilio, altura)\n",
    "    lista_personas.append(persona)\n",
    "    persona.saludar()"
   ]
  },
  {
   "cell_type": "markdown",
   "id": "cc00d61c",
   "metadata": {},
   "source": [
    "## Ejercicio 2\n",
    "Devolver una lista con la leyenda: \"*nombre* con dimicilio *domicilio* tiene *edad* años y mide *altura* metros."
   ]
  },
  {
   "cell_type": "code",
   "execution_count": null,
   "id": "c938769e",
   "metadata": {
    "vscode": {
     "languageId": "python"
    }
   },
   "outputs": [],
   "source": [
    "for persona in lista_persona:\n",
    "    print(persona.saludar())"
   ]
  },
  {
   "cell_type": "markdown",
   "id": "927cc8d0",
   "metadata": {},
   "source": [
    "## Ejercicio 3\n",
    "Y por último una leyenda que devuelva el nombre de la persona con mayor edad y el nombre de la persona de mayor altura en una leyenda estilo \"La persona de mayor edad es *nombre* y la mas alta *nombre*\""
   ]
  },
  {
   "cell_type": "code",
   "execution_count": null,
   "id": "cca67ed8",
   "metadata": {
    "vscode": {
     "languageId": "python"
    }
   },
   "outputs": [],
   "source": []
  }
 ],
 "metadata": {
  "kernelspec": {
   "display_name": "Python 3 (ipykernel)",
   "language": "python",
   "name": "python3"
  },
  "language_info": {
   "codemirror_mode": {
    "name": "ipython",
    "version": 3
   },
   "file_extension": ".py",
   "mimetype": "text/x-python",
   "name": "python",
   "nbconvert_exporter": "python",
   "pygments_lexer": "ipython3",
   "version": "3.12.9"
  }
 },
 "nbformat": 4,
 "nbformat_minor": 5
}
